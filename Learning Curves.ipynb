{
 "cells": [
  {
   "cell_type": "markdown",
   "metadata": {},
   "source": [
    "## Learning Curves\n",
    "\n",
    "A method of analyzing loss across train, test, and cross-validation datasets by plotting the error as a function of the size of the training set size. The x-axis represents the size of the training dataset in terms of observations.\n",
    "\n",
    "Generally, as the training set increases, your error should decrease on the CV or test datasets and increase for the train dataset"
   ]
  },
  {
   "cell_type": "markdown",
   "metadata": {},
   "source": [
    "![LEARNING_CURVE](./img/learning_curve.png)"
   ]
  },
  {
   "cell_type": "markdown",
   "metadata": {},
   "source": [
    "### Bias vs Variance\n",
    "\n",
    "Bias = Underfitting\n",
    "\n",
    "Variance = Overfitting"
   ]
  },
  {
   "cell_type": "markdown",
   "metadata": {},
   "source": [
    "### High Bias\n",
    "\n",
    "When the model is underfitting the data\n",
    "\n",
    "NOTES:\n",
    "- The training set size does not really improve the error much across either dataset\n",
    "    - This is because there is a poor model fit to begin with\n",
    "\n",
    "RESOLUTIONS:\n",
    "- Add polynomial features to the model equation"
   ]
  },
  {
   "cell_type": "markdown",
   "metadata": {},
   "source": [
    "![HIGH_BIAS](./img/high_bias.png)"
   ]
  },
  {
   "cell_type": "markdown",
   "metadata": {},
   "source": [
    "### High Variance \n",
    "\n",
    "When the model is overfitting the data\n",
    "\n",
    "NOTES:\n",
    "- Typically this happens with models that have high order polynomial features\n",
    "\n",
    "RESOLUTIONS:\n",
    "- Adding more training data will help\n",
    "    - Notice how the curves are beginning to converge as the training data increases"
   ]
  },
  {
   "cell_type": "markdown",
   "metadata": {},
   "source": [
    "![HIGH_VARIANCE](./img/high_variance.png)"
   ]
  },
  {
   "cell_type": "code",
   "execution_count": null,
   "metadata": {},
   "outputs": [],
   "source": []
  }
 ],
 "metadata": {
  "kernelspec": {
   "display_name": "Python 3",
   "language": "python",
   "name": "python3"
  },
  "language_info": {
   "codemirror_mode": {
    "name": "ipython",
    "version": 3
   },
   "file_extension": ".py",
   "mimetype": "text/x-python",
   "name": "python",
   "nbconvert_exporter": "python",
   "pygments_lexer": "ipython3",
   "version": "3.7.0"
  }
 },
 "nbformat": 4,
 "nbformat_minor": 2
}
