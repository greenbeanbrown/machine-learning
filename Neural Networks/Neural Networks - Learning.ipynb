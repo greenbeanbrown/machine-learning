{
 "cells": [
  {
   "cell_type": "markdown",
   "metadata": {},
   "source": [
    "### Neural Networks - Learning"
   ]
  },
  {
   "cell_type": "markdown",
   "metadata": {},
   "source": [
    "### Outline\n",
    "\n",
    "- Cost Function\n",
    "- Forward Propagation Algorithm\n",
    "- Backpropagation Algorithm"
   ]
  },
  {
   "cell_type": "markdown",
   "metadata": {},
   "source": [
    "### Cost Function\n",
    "\n",
    "This cost function is an extension of the Logistic Regression cost function.\n",
    "\n",
    "**Terms:**\n",
    "- L = total number of layers in the network\n",
    "- $s_{l}$ = number of units (not counting bias unit) in layer 1\n",
    "- K = number of output units/classes\n",
    "\n",
    "**Differences:**\n",
    "- There are multiple nested summations to now account for the multiple output nodes\n"
   ]
  },
  {
   "cell_type": "markdown",
   "metadata": {},
   "source": [
    "![NEURAL_NETWORK_COST](../img/neural_network_cost_function.png)"
   ]
  },
  {
   "cell_type": "markdown",
   "metadata": {},
   "source": [
    "### Forward Propagation algorithm\n",
    "\n",
    "A method for computing the intermediate layer variables (including the output layer) which operates from left to right (input > output)\n",
    "\n",
    "See algorithm representation below:"
   ]
  },
  {
   "cell_type": "markdown",
   "metadata": {},
   "source": [
    "![NEURAL_NETWORK_FORWARD](../img/neural_network_forward_propagation.png)"
   ]
  },
  {
   "cell_type": "markdown",
   "metadata": {},
   "source": [
    "### Backpropagation Algorithm\n",
    "\n",
    "Used for computing the derivatives of the neural network's cost functions \n",
    "\n",
    "NEED MORE INFO HERE\n",
    "\n",
    "\n",
    "A refresher on computing the gradient is shown below:"
   ]
  },
  {
   "cell_type": "markdown",
   "metadata": {},
   "source": [
    "![NEURAL_NETWORK_GRADIENT](../img/neural_network_gradient.png)"
   ]
  },
  {
   "cell_type": "markdown",
   "metadata": {},
   "source": []
  },
  {
   "cell_type": "markdown",
   "metadata": {},
   "source": []
  }
 ],
 "metadata": {
  "kernelspec": {
   "display_name": "Python 3",
   "language": "python",
   "name": "python3"
  },
  "language_info": {
   "codemirror_mode": {
    "name": "ipython",
    "version": 3
   },
   "file_extension": ".py",
   "mimetype": "text/x-python",
   "name": "python",
   "nbconvert_exporter": "python",
   "pygments_lexer": "ipython3",
   "version": "3.8.5"
  }
 },
 "nbformat": 4,
 "nbformat_minor": 4
}
