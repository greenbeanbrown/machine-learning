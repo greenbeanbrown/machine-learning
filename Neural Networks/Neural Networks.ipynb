{
 "cells": [
  {
   "cell_type": "markdown",
   "metadata": {},
   "source": [
    "### Neural Networks"
   ]
  },
  {
   "cell_type": "markdown",
   "metadata": {},
   "source": [
    "### Outline\n",
    "\n",
    "- Non-Linear Hypotheses\n",
    "- Neurons and the Brain"
   ]
  },
  {
   "cell_type": "markdown",
   "metadata": {},
   "source": [
    "### Non-Linear Hypotheses\n",
    "\n",
    "When Neural Networks are used for image recognition, the features become different pixel intensity at certain points in the image. So for example, when recognizing a car, we may create a model with 2 key features, pixel 1 and pixel 2, where pixel 1 is representing a steering wheel and pixel 2 is showing a tire. We can plot the data points of various images on a plot just like any other data problem when we construct it as such. \n",
    "\n",
    "See below for example:"
   ]
  },
  {
   "cell_type": "markdown",
   "metadata": {},
   "source": [
    "![CAR_NEURAL_NETWORK_EXAMPLE](../img/car_neural_network_example.png)"
   ]
  },
  {
   "cell_type": "markdown",
   "metadata": {},
   "source": [
    "#### Why not use Logistic Regression to classify the cars then?\n",
    "\n",
    "The problem with using a Logistic Regression model in this case is that your number of features becomes extremely large if you are looking at every pixel as a feature (about 3 million in the above example). Without using so many features it will be very difficult to get a good model fit, but with using Logistic Regression the algorithm is very efficient with so many features (remember we are using Gradient Descent and not Normal Equation with Logistic Regression).\n",
    "\n",
    "So because of this inefficiency, we use a Neural Network."
   ]
  },
  {
   "cell_type": "markdown",
   "metadata": {},
   "source": [
    "### Neurons and the Brain\n",
    "\n",
    "Neural Networks were designed to mimic the behavior of the human brain and were previously widely used in the 80s and early 90s, but have fallen out a bit since. They are making a big resurgence recently due to advanced in modern technologies making them more accessible and practical.\n",
    "\n",
    "#### The \"One Learning Algorithm\" hypothesis\n",
    "\n",
    "The brain has an interesting behavior that allows different parts of the brain to learn to execute different behaviors, i.e. auditory cortex learning to see when re-connected to eyes. This idea is translatable to Machine Learning because the theory behind Neural Networks tries to mimic this in a way by learning to do various behaviors with a single model, i.e. letting the model learn itself."
   ]
  },
  {
   "cell_type": "markdown",
   "metadata": {},
   "source": []
  },
  {
   "cell_type": "markdown",
   "metadata": {},
   "source": []
  },
  {
   "cell_type": "markdown",
   "metadata": {},
   "source": []
  },
  {
   "cell_type": "markdown",
   "metadata": {},
   "source": []
  },
  {
   "cell_type": "markdown",
   "metadata": {},
   "source": []
  },
  {
   "cell_type": "markdown",
   "metadata": {},
   "source": []
  }
 ],
 "metadata": {
  "kernelspec": {
   "display_name": "Python 3",
   "language": "python",
   "name": "python3"
  },
  "language_info": {
   "codemirror_mode": {
    "name": "ipython",
    "version": 3
   },
   "file_extension": ".py",
   "mimetype": "text/x-python",
   "name": "python",
   "nbconvert_exporter": "python",
   "pygments_lexer": "ipython3",
   "version": "3.8.5"
  }
 },
 "nbformat": 4,
 "nbformat_minor": 4
}
